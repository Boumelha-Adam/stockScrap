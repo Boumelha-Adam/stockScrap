{
 "cells": [
  {
   "cell_type": "code",
   "execution_count": 53,
   "metadata": {
    "scrolled": true
   },
   "outputs": [
    {
     "name": "stderr",
     "output_type": "stream",
     "text": [
      "/home/boumelha/.local/lib/python3.6/site-packages/ipykernel_launcher.py:22: DeprecationWarning: use options instead of chrome_options\n"
     ]
    }
   ],
   "source": [
    "from selenium import webdriver\n",
    "from selenium.webdriver.common.keys import Keys\n",
    "from selenium.webdriver.chrome.options import Options\n",
    "\n",
    "# import classes to manage the waiting time after cliking\n",
    "from selenium.webdriver.common.by import By\n",
    "from selenium.webdriver.support.ui import WebDriverWait\n",
    "from selenium.webdriver.support import expected_conditions\n",
    "\n",
    "import time\n",
    "import os\n",
    "\n",
    "import pandas as pd\n",
    "\n",
    "\n",
    "options = Options()\n",
    "options.add_argument(\"start-maximized\")\n",
    "# path of the web driver whish is in the same directory of our project\n",
    "path = os.getcwd() + \"/chromedriver\"\n",
    "\n",
    "#path of the driver, use chmod 755 chromedriver command to allow permissions\n",
    "driver = webdriver.Chrome(chrome_options=options,executable_path=path)\n",
    "\n",
    "# get the full path of the website to scrap \n",
    "driver.get(\"http://www.casablanca-bourse.com/bourseweb/Negociation-Historique.aspx?Cat=24&IdLink=302\")\n",
    "\n",
    "\n",
    "#search in the html code for the search bar containing the names of the companies\n",
    "# & seperate the string into a list of companies\n",
    "\n",
    "stringCompanies = driver.find_element_by_xpath('//*[@id=\"HistoriqueNegociation1_HistValeur1_DDValeur\"]')\n",
    "\n",
    "#list containing all the companies in the page\n",
    "listCompanies = stringCompanies.text.split(\"\\n\")[1:]\n",
    "\n",
    "# select your desired companie and interval of the data to scrap your data: option[4] index 4 ==> index of the companie alliances \n",
    "\n",
    "driver.find_element_by_xpath('//*[@id=\"HistoriqueNegociation1_HistValeur1_DDValeur\"]/option[4]').click()\n",
    "driver.find_element_by_xpath('//*[@id=\"HistoriqueNegociation1_HistValeur1_DDuree\"]/option[6]').click()\n",
    "driver.find_element_by_xpath('//*[@id=\"HistoriqueNegociation1_HistValeur1_Image1\"]').click()\n",
    "\n",
    "WebDriverWait(driver, 4).until(\n",
    "      expected_conditions.presence_of_all_elements_located(\n",
    "    (By.XPATH, '//*[@id=\"HistoriqueNegociation1_HistValeur1_PnlResultat\"]')\n",
    "  )\n",
    ")\n",
    "\n",
    "\n",
    "                                    \n",
    "table = driver.find_element_by_xpath('/html/body/form/table/tbody/tr[2]/td[2]/table[3]/tbody/tr/td[3]/div/table/tbody/tr[6]/td/table/tbody/tr/td/table/tbody/tr/td/table/tbody/tr[2]/td[2]/table/tbody/tr[1]/td/table/tbody/tr[5]/td/div/table/tbody')\n",
    "\n",
    "\n",
    "rows = table.find_elements_by_xpath(\".//tr\")\n",
    "\n",
    "listRows = []\n",
    "\n",
    "for row in rows[:10]:\n",
    "    singleRow = [td.text for td in row.find_elements_by_xpath(\".//td\")]\n",
    "    singleRow = list(filter(None,singleRow))\n",
    "    listRows.append(singleRow)\n",
    "    \n",
    "listRows = list(filter(None,listRows))\n",
    "finalTable=pd.DataFrame(listRows[1:],columns=listRows[0])    \n",
    "finalTable\n",
    "\n",
    "driver.quit()"
   ]
  },
  {
   "cell_type": "code",
   "execution_count": 57,
   "metadata": {
    "scrolled": true
   },
   "outputs": [
    {
     "data": {
      "text/plain": [
       "2"
      ]
     },
     "execution_count": 57,
     "metadata": {},
     "output_type": "execute_result"
    }
   ],
   "source": [
    "listCompanies.index('  ALLIANCES')"
   ]
  },
  {
   "cell_type": "code",
   "execution_count": 79,
   "metadata": {
    "scrolled": true
   },
   "outputs": [
    {
     "name": "stderr",
     "output_type": "stream",
     "text": [
      "/home/boumelha/.local/lib/python3.6/site-packages/ipykernel_launcher.py:8: DeprecationWarning: use options instead of chrome_options\n",
      "  \n"
     ]
    }
   ],
   "source": [
    "\n",
    "options = Options()\n",
    "options.add_argument(\"start-maximized\")\n",
    "# path of the web driver whish is in the same directory of our project\n",
    "path = os.getcwd() + \"/chromedriver\"\n",
    "\n",
    "#path of the driver, use chmod 755 chromedriver command to allow permissions\n",
    "driver = webdriver.Chrome(chrome_options=options,executable_path=path)\n",
    "\n",
    "# get the full path of the website to scrap \n",
    "driver.get(\"http://www.casablanca-bourse.com/bourseweb/Negociation-Historique.aspx?Cat=24&IdLink=302\")\n",
    "\n",
    "rows = driver.find_element_by_xpath('//*[@id=\"arial11bleu\"]')\\\n",
    "                                    .find_element_by_tag_name('tr')"
   ]
  },
  {
   "cell_type": "code",
   "execution_count": null,
   "metadata": {},
   "outputs": [],
   "source": []
  },
  {
   "cell_type": "code",
   "execution_count": null,
   "metadata": {},
   "outputs": [],
   "source": []
  }
 ],
 "metadata": {
  "kernelspec": {
   "display_name": "fastai-cpu",
   "language": "python",
   "name": "fastai-cpu"
  },
  "language_info": {
   "codemirror_mode": {
    "name": "ipython",
    "version": 3
   },
   "file_extension": ".py",
   "mimetype": "text/x-python",
   "name": "python",
   "nbconvert_exporter": "python",
   "pygments_lexer": "ipython3",
   "version": "3.6.8"
  }
 },
 "nbformat": 4,
 "nbformat_minor": 4
}
